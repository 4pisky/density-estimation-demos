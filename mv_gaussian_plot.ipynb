{
 "cells": [
  {
   "cell_type": "markdown",
   "metadata": {},
   "source": [
    "# MvGauss demo\n",
    "## (Class to conveniently represent a multivariate Gaussian)"
   ]
  },
  {
   "cell_type": "code",
   "execution_count": null,
   "metadata": {},
   "outputs": [],
   "source": [
    "%load_ext autoreload\n",
    "%autoreload 2"
   ]
  },
  {
   "cell_type": "code",
   "execution_count": null,
   "metadata": {},
   "outputs": [],
   "source": [
    "%matplotlib inline"
   ]
  },
  {
   "cell_type": "code",
   "execution_count": null,
   "metadata": {},
   "outputs": [],
   "source": [
    "import pandas as pd\n",
    "import matplotlib.pyplot as plt\n",
    "import numpy as np"
   ]
  },
  {
   "cell_type": "code",
   "execution_count": null,
   "metadata": {},
   "outputs": [],
   "source": [
    "from mvgauss import MvGauss\n",
    "from plot import (\n",
    "    plot_2d_contours, get_2d_confidence_ellipse,\n",
    "    plot_principal_axes\n",
    ")"
   ]
  },
  {
   "cell_type": "markdown",
   "metadata": {},
   "source": [
    "To define the multivariate Gaussian, we always begin by defining the mean and std. dev. for each measured variable..."
   ]
  },
  {
   "cell_type": "code",
   "execution_count": null,
   "metadata": {},
   "outputs": [],
   "source": [
    "g_pars = pd.DataFrame(index=('mu', 'sigma'))"
   ]
  },
  {
   "cell_type": "code",
   "execution_count": null,
   "metadata": {},
   "outputs": [],
   "source": [
    "g_pars['a'] = 0, .5\n",
    "g_pars['b'] = 2, 1.5\n",
    "g_pars"
   ]
  },
  {
   "cell_type": "markdown",
   "metadata": {},
   "source": [
    "... in this example, we then define the correlation between the variables:"
   ]
  },
  {
   "cell_type": "code",
   "execution_count": null,
   "metadata": {},
   "outputs": [],
   "source": [
    "corr = {('a', 'b'): -0.8}\n",
    "# corr = {}"
   ]
  },
  {
   "cell_type": "markdown",
   "metadata": {},
   "source": [
    "We can then use the `from_correlations` named constructor. You can alternatively supply a covariance matrix, but correlations are often easier to choose when simulating arbitrary data."
   ]
  },
  {
   "cell_type": "code",
   "execution_count": null,
   "metadata": {},
   "outputs": [],
   "source": [
    "mvg = MvGauss.from_correlations(g_pars, corr)"
   ]
  },
  {
   "cell_type": "code",
   "execution_count": null,
   "metadata": {},
   "outputs": [],
   "source": [
    "mvg"
   ]
  },
  {
   "cell_type": "markdown",
   "metadata": {},
   "source": [
    "Let's just confirm that the principal components really are orthogonal:"
   ]
  },
  {
   "cell_type": "code",
   "execution_count": null,
   "metadata": {},
   "outputs": [],
   "source": [
    "np.dot(mvg.pcv[0],mvg.pcv[1])"
   ]
  },
  {
   "cell_type": "code",
   "execution_count": null,
   "metadata": {},
   "outputs": [],
   "source": [
    "n_samples = 100\n",
    "sample = mvg.dist.rvs(n_samples)\n",
    "sample.shape"
   ]
  },
  {
   "cell_type": "code",
   "execution_count": null,
   "metadata": {},
   "outputs": [],
   "source": [
    "sig=mvg.sigma\n",
    "mu=mvg.mu.values\n",
    "half_grid_size = 3*sig.max()\n",
    "\n",
    "xlim = (mu[0]-half_grid_size,mu[0]+half_grid_size)\n",
    "ylim = (mu[1]-half_grid_size,mu[1]+half_grid_size)"
   ]
  },
  {
   "cell_type": "code",
   "execution_count": null,
   "metadata": {},
   "outputs": [],
   "source": [
    "plt.rcParams['figure.figsize'] = 10, 8\n",
    "ax = plt.gca()\n",
    "\n",
    "ell = get_2d_confidence_ellipse(mvg)\n",
    "ell.set(fill=False, alpha=1, color='k', ls='-')\n",
    "ax.add_artist(ell)\n",
    "# ell2sig=Ellipse(mvg.mu, 2*pcv_std_dev[0], 2*pcv_std_dev[1], pcv_angle, fill=False)\n",
    "# ax.add_artist(ell2sig)\n",
    "\n",
    "# cset, ax = plot_2d_contours(mvg.dist.pdf, xlim, ylim, ax=ax)\n",
    "# plt.colorbar(cset)\n",
    "\n",
    "ax.set_xlabel(mvg.mu.index[0])\n",
    "ax.set_ylabel(mvg.mu.index[1])\n",
    "\n",
    "ax.set_xlim(xlim)\n",
    "ax.set_ylim(ylim)\n",
    "\n",
    "ax.scatter(sample[:, 0], sample[:, 1],\n",
    "           c='r', s=16,\n",
    "           alpha=0.5\n",
    "#            facecolors='none', edgecolors='r',\n",
    "           )\n",
    "\n",
    "plot_principal_axes(mvg, ax=ax, \n",
    "             c='g', lw=3, ls='-', zorder=-3\n",
    "            )\n",
    "ax.set_aspect(1, 'datalim')\n",
    "mvg"
   ]
  }
 ],
 "metadata": {
  "language_info": {
   "name": "python",
   "pygments_lexer": "ipython3"
  }
 },
 "nbformat": 4,
 "nbformat_minor": 1
}
