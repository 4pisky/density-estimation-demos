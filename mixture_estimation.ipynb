{
 "cells": [
  {
   "cell_type": "code",
   "execution_count": null,
   "metadata": {},
   "outputs": [],
   "source": [
    "%load_ext autoreload\n",
    "%autoreload 2"
   ]
  },
  {
   "cell_type": "code",
   "execution_count": null,
   "metadata": {},
   "outputs": [],
   "source": [
    "import pandas as pd\n",
    "import numpy as np\n",
    "import matplotlib.pyplot as plt"
   ]
  },
  {
   "cell_type": "code",
   "execution_count": null,
   "metadata": {},
   "outputs": [],
   "source": [
    "from mvgauss import MvGauss\n",
    "from mixture import Mixture\n",
    "from plot import plot_2d_contours"
   ]
  },
  {
   "cell_type": "code",
   "execution_count": null,
   "metadata": {},
   "outputs": [],
   "source": [
    "%matplotlib inline\n",
    "plt.rcParams['figure.figsize'] = 10, 8"
   ]
  },
  {
   "cell_type": "code",
   "execution_count": null,
   "metadata": {},
   "outputs": [],
   "source": [
    "c0_pars = pd.DataFrame(index=('mu', 'sigma'))\n",
    "c0_pars['a'] = 0, 1\n",
    "c0_pars['b'] = -1, 1.5\n",
    "c0_corr = {('a', 'b'): -0.8}\n",
    "c0 = MvGauss.from_correlations(c0_pars, c0_corr)"
   ]
  },
  {
   "cell_type": "code",
   "execution_count": null,
   "metadata": {},
   "outputs": [],
   "source": [
    "c1_pars = pd.DataFrame(index=('mu', 'sigma'))\n",
    "c1_pars['a'] = 0.5, 1\n",
    "c1_pars['b'] = 3.0,1.5\n",
    "c1_corr = {('a', 'b'): 0.5}\n",
    "c1 = MvGauss.from_correlations(c1_pars, c1_corr)"
   ]
  },
  {
   "cell_type": "code",
   "execution_count": null,
   "metadata": {},
   "outputs": [],
   "source": [
    "mix = Mixture(models=[c0,c1],\n",
    "             weights=[1,2] )\n",
    "mix"
   ]
  },
  {
   "cell_type": "code",
   "execution_count": null,
   "metadata": {},
   "outputs": [],
   "source": [
    "sample_size = 150\n",
    "sample = mix.joint_sample(sample_size)"
   ]
  },
  {
   "cell_type": "code",
   "execution_count": null,
   "metadata": {},
   "outputs": [],
   "source": [
    "ax = plt.gca()\n",
    "ax.scatter(sample[:,0],sample[:,1],)\n",
    "# ax.hexbin(sample[:,0],sample[:,1],)"
   ]
  },
  {
   "cell_type": "code",
   "execution_count": null,
   "metadata": {},
   "outputs": [],
   "source": [
    "from sklearn.neighbors.kde import KernelDensity"
   ]
  },
  {
   "cell_type": "code",
   "execution_count": null,
   "metadata": {},
   "outputs": [],
   "source": [
    "kde = KernelDensity(kernel='gaussian', bandwidth=0.75).fit(sample)"
   ]
  },
  {
   "cell_type": "code",
   "execution_count": null,
   "metadata": {},
   "outputs": [],
   "source": [
    "def kde_pdf(sample_coords):\n",
    "    return np.exp(kde.score_samples(sample_coords))"
   ]
  },
  {
   "cell_type": "code",
   "execution_count": null,
   "metadata": {},
   "outputs": [],
   "source": [
    "xlim=ylim=(-5,6)"
   ]
  },
  {
   "cell_type": "code",
   "execution_count": null,
   "metadata": {},
   "outputs": [],
   "source": [
    "fig, axes = plt.subplots(nrows=1, ncols=2)\n",
    "# for ax in axes.flat:\n",
    "#     im = ax.imshow(np.random.random((10,10)), vmin=0, vmax=1)\n",
    "\n",
    "levels = np.linspace(0.,.085, num=10)\n",
    "plot_2d_contours(kde_pdf, xlim,ylim, ax=axes[0],\n",
    "#                  levels=levels\n",
    "                )\n",
    "axes[0].set_title('KDE')\n",
    "cset,_ = plot_2d_contours(mix.joint_pdf, xlim,ylim, ax=axes[1],\n",
    "#                  levels=levels\n",
    "                )\n",
    "plt.colorbar(cset,\n",
    "             ax=axes.tolist()\n",
    "            )\n",
    "axes[1].set_title('True PDF')\n",
    "# fig.subplots_adjust(right=0.8)\n",
    "# cbar_ax = fig.add_axes([0.85, 0.15, 0.05, 0.7])\n",
    "# fig.colorbar(im, cax=cbar_ax)\n"
   ]
  }
 ],
 "metadata": {
  "language_info": {
   "name": "python",
   "pygments_lexer": "ipython3"
  }
 },
 "nbformat": 4,
 "nbformat_minor": 2
}
