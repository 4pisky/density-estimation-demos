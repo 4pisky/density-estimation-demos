{
 "cells": [
  {
   "cell_type": "code",
   "execution_count": null,
   "metadata": {},
   "outputs": [],
   "source": [
    "%load_ext autoreload\n",
    "%autoreload 2"
   ]
  },
  {
   "cell_type": "code",
   "execution_count": null,
   "metadata": {},
   "outputs": [],
   "source": [
    "import pandas as pd\n",
    "import numpy as np\n",
    "import matplotlib.pyplot as plt"
   ]
  },
  {
   "cell_type": "code",
   "execution_count": null,
   "metadata": {},
   "outputs": [],
   "source": [
    "from mvgauss import MvGauss\n",
    "from mixture import Mixture\n",
    "from plot import plot_2d_contours"
   ]
  },
  {
   "cell_type": "code",
   "execution_count": null,
   "metadata": {},
   "outputs": [],
   "source": [
    "c0_pars = pd.DataFrame(index=('mu', 'sigma'))\n",
    "c0_pars['a'] = 0, 1\n",
    "c0_pars['b'] = -1, 1.5\n",
    "c0_corr = {('a', 'b'): -0.8}\n",
    "c0 = MvGauss.from_correlations(c0_pars, c0_corr)\n",
    "c0"
   ]
  },
  {
   "cell_type": "code",
   "execution_count": null,
   "metadata": {},
   "outputs": [],
   "source": [
    "c1_pars = pd.DataFrame(index=('mu', 'sigma'))\n",
    "c1_pars['a'] = 0.0, 1\n",
    "c1_pars['b'] = 3.0,1.5\n",
    "c1_corr = {('a', 'b'): 0.5}\n",
    "c1 = MvGauss.from_correlations(c1_pars, c1_corr)\n",
    "c1"
   ]
  },
  {
   "cell_type": "code",
   "execution_count": null,
   "metadata": {},
   "outputs": [],
   "source": [
    "np.atleast_1d(5)"
   ]
  },
  {
   "cell_type": "code",
   "execution_count": null,
   "metadata": {},
   "outputs": [],
   "source": [
    "mix = Mixture(models=[c0,c1],\n",
    "             weights=[1,2] )"
   ]
  },
  {
   "cell_type": "code",
   "execution_count": null,
   "metadata": {},
   "outputs": [],
   "source": [
    "x = np.array([\n",
    "    [0.1, 0.1],\n",
    "    [0.1, 0.2],\n",
    "])\n",
    "mix.joint_pdf(x)"
   ]
  },
  {
   "cell_type": "code",
   "execution_count": null,
   "metadata": {},
   "outputs": [],
   "source": [
    "%matplotlib inline\n",
    "plt.rcParams['figure.figsize'] = 10, 8\n",
    "xlim = (-5,5)\n",
    "ylim = (-5,10)\n",
    "plot_2d_contours(mix.joint_pdf, xlim, ylim)"
   ]
  }
 ],
 "metadata": {
  "language_info": {
   "name": "python",
   "pygments_lexer": "ipython3"
  }
 },
 "nbformat": 4,
 "nbformat_minor": 0
}
