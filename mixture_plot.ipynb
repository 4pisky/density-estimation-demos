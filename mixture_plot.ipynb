{
 "cells": [
  {
   "cell_type": "markdown",
   "metadata": {},
   "source": [
    "# Mixture demo\n",
    "## (Class to conveniently represent a mixture-model)"
   ]
  },
  {
   "cell_type": "code",
   "execution_count": null,
   "metadata": {},
   "outputs": [],
   "source": [
    "%load_ext autoreload\n",
    "%autoreload 2"
   ]
  },
  {
   "cell_type": "code",
   "execution_count": null,
   "metadata": {},
   "outputs": [],
   "source": [
    "import pandas as pd\n",
    "import numpy as np\n",
    "import matplotlib.pyplot as plt"
   ]
  },
  {
   "cell_type": "code",
   "execution_count": null,
   "metadata": {},
   "outputs": [],
   "source": [
    "from mvgauss import MvGauss\n",
    "from mixture import Mixture\n",
    "from plot import (plot_2d_contours, get_2d_confidence_ellipse,)"
   ]
  },
  {
   "cell_type": "code",
   "execution_count": null,
   "metadata": {},
   "outputs": [],
   "source": [
    "c0_pars = pd.DataFrame(index=('mu', 'sigma'))\n",
    "c0_pars['a'] = 0, 1\n",
    "c0_pars['b'] = -1, 1.5\n",
    "c0_corr = {('a', 'b'): -0.8}\n",
    "c0 = MvGauss.from_correlations(c0_pars, c0_corr)\n",
    "c0"
   ]
  },
  {
   "cell_type": "code",
   "execution_count": null,
   "metadata": {},
   "outputs": [],
   "source": [
    "c1_pars = pd.DataFrame(index=('mu', 'sigma'))\n",
    "c1_pars['a'] = 0.5, 1\n",
    "c1_pars['b'] = 3.0,1.5\n",
    "c1_corr = {('a', 'b'): 0.5}\n",
    "c1 = MvGauss.from_correlations(c1_pars, c1_corr)\n",
    "c1"
   ]
  },
  {
   "cell_type": "code",
   "execution_count": null,
   "metadata": {},
   "outputs": [],
   "source": [
    "np.atleast_1d(5)"
   ]
  },
  {
   "cell_type": "code",
   "execution_count": null,
   "metadata": {},
   "outputs": [],
   "source": [
    "mix = Mixture(models=[c0,c1],\n",
    "             weights=[1,2] )\n",
    "mix"
   ]
  },
  {
   "cell_type": "code",
   "execution_count": null,
   "metadata": {},
   "outputs": [],
   "source": [
    "x = np.array([\n",
    "    [0.1, 0.1],\n",
    "    [0.1, 0.2],\n",
    "])\n",
    "mix.joint_pdf(x)"
   ]
  },
  {
   "cell_type": "code",
   "execution_count": null,
   "metadata": {},
   "outputs": [],
   "source": [
    "def joint_sample(self, size=1):\n",
    "    component_sample_sizes = np.random.multinomial(n=size,\n",
    "                                                   pvals=self.weights)\n",
    "    return component_sample_sizes\n",
    "joint_sample(mix, size=15)"
   ]
  },
  {
   "cell_type": "code",
   "execution_count": null,
   "metadata": {},
   "outputs": [],
   "source": [
    "%matplotlib inline\n",
    "plt.rcParams['figure.figsize'] = 10, 8\n",
    "\n",
    "xlim = (-5,5)\n",
    "ylim = (-5,10)\n",
    "cset, ax = plot_2d_contours(mix.joint_pdf, xlim, ylim)\n",
    "plt.colorbar(cset)\n",
    "sample_size = 100\n",
    "sample = mix.joint_sample(sample_size)\n",
    "ax.scatter(sample[:,0],sample[:,1],c='y', alpha=0.75)\n",
    "\n",
    "for mdl in mix.models:\n",
    "    mu = mdl.mu.values\n",
    "    ax.scatter(mu[0],mu[1], c='r', marker='+',s=64)\n",
    "    ell = get_2d_confidence_ellipse(mdl)\n",
    "    ell.set(fill=False, alpha=1, color='k', ls='-')\n",
    "    ax.add_artist(ell)"
   ]
  }
 ],
 "metadata": {
  "language_info": {
   "name": "python",
   "pygments_lexer": "ipython3"
  }
 },
 "nbformat": 4,
 "nbformat_minor": 1
}
