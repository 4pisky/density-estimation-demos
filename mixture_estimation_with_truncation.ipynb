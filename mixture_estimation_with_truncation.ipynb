{
 "cells": [
  {
   "cell_type": "markdown",
   "metadata": {},
   "source": [
    "# Mixture Estimation with Truncation\n",
    "\n",
    "### Density estimation via the GMMis algorithm"
   ]
  },
  {
   "cell_type": "code",
   "execution_count": null,
   "metadata": {},
   "outputs": [],
   "source": [
    "%load_ext autoreload\n",
    "%autoreload 2"
   ]
  },
  {
   "cell_type": "code",
   "execution_count": null,
   "metadata": {},
   "outputs": [],
   "source": [
    "import pandas as pd\n",
    "import numpy as np\n",
    "import matplotlib.pyplot as plt"
   ]
  },
  {
   "cell_type": "code",
   "execution_count": null,
   "metadata": {},
   "outputs": [],
   "source": [
    "from mvgauss import MvGauss\n",
    "from mixture import Mixture\n",
    "from plot import (\n",
    "    plot_2d_contours, get_2d_confidence_ellipse,\n",
    "    plot_principal_axes\n",
    ")"
   ]
  },
  {
   "cell_type": "code",
   "execution_count": null,
   "metadata": {},
   "outputs": [],
   "source": [
    "%matplotlib inline\n",
    "plt.rcParams['figure.figsize'] = 10, 8"
   ]
  },
  {
   "cell_type": "markdown",
   "metadata": {},
   "source": [
    "Set up the mixture model we'll use to generate some data:"
   ]
  },
  {
   "cell_type": "code",
   "execution_count": null,
   "metadata": {},
   "outputs": [],
   "source": [
    "c0_pars = pd.DataFrame(index=('mu', 'sigma'))\n",
    "c0_pars['a'] = 0, 1\n",
    "c0_pars['b'] = -1, 1.5\n",
    "c0_corr = {('a', 'b'): -0.8}\n",
    "c0 = MvGauss.from_correlations(c0_pars, c0_corr)\n",
    "# c0"
   ]
  },
  {
   "cell_type": "code",
   "execution_count": null,
   "metadata": {},
   "outputs": [],
   "source": [
    "c1_pars = pd.DataFrame(index=('mu', 'sigma'))\n",
    "c1_pars['a'] = 1.5, 1\n",
    "c1_pars['b'] = 3.0, 1.5\n",
    "c1_corr = {('a', 'b'): 0.5}\n",
    "c1 = MvGauss.from_correlations(c1_pars, c1_corr)"
   ]
  },
  {
   "cell_type": "code",
   "execution_count": null,
   "metadata": {},
   "outputs": [],
   "source": [
    "mix = Mixture(models=[c0, c1],\n",
    "              weights=[2, 2])\n",
    "# mix = Mixture(models=[c0, ],\n",
    "#               weights=[2, ])\n",
    "mix"
   ]
  },
  {
   "cell_type": "code",
   "execution_count": null,
   "metadata": {},
   "outputs": [],
   "source": [
    "trunc_cutoff = -1.0"
   ]
  },
  {
   "cell_type": "code",
   "execution_count": null,
   "metadata": {},
   "outputs": [],
   "source": [
    "from numpy.random import RandomState\n",
    "seed = 43\n",
    "np.random.seed(seed=42)\n"
   ]
  },
  {
   "cell_type": "code",
   "execution_count": null,
   "metadata": {},
   "outputs": [],
   "source": [
    "def selection_function(sample):\n",
    "    \"\"\"Selects deterministically according to second coordinate b:\n",
    "    Omega = 1    for b > -2\n",
    "          = 0    for b <= -2\n",
    "    \"\"\"\n",
    "    sample_index =  sample[:,1] > trunc_cutoff\n",
    "    return sample_index"
   ]
  },
  {
   "cell_type": "code",
   "execution_count": null,
   "metadata": {},
   "outputs": [],
   "source": [
    "def sample_with_truncation(mixture, selection_function, n_samples, iter_max=10):\n",
    "    truncated_sample = np.zeros((0,mixture.ndim),dtype=float)\n",
    "    fill_iter = 0\n",
    "    while (len(truncated_sample) < n_samples) and fill_iter < iter_max:\n",
    "        untruncated_sample = mixture.joint_sample(int(n_samples*1.5),)\n",
    "        selection_index = selection_function(untruncated_sample)\n",
    "        truncated_sample = np.concatenate( (truncated_sample, untruncated_sample[selection_index]))\n",
    "        fill_iter+=1\n",
    "    return truncated_sample[:n_samples]\n",
    "    "
   ]
  },
  {
   "cell_type": "code",
   "execution_count": null,
   "metadata": {},
   "outputs": [],
   "source": [
    "n_samples=400"
   ]
  },
  {
   "cell_type": "code",
   "execution_count": null,
   "metadata": {},
   "outputs": [],
   "source": [
    "sample = sample_with_truncation(mixture=mix, selection_function=selection_function,\n",
    "                      n_samples=n_samples)\n",
    "\n",
    "len(sample)"
   ]
  },
  {
   "cell_type": "code",
   "execution_count": null,
   "metadata": {},
   "outputs": [],
   "source": [
    "ax = plt.gca()\n",
    "ax.scatter(sample[:, 0], sample[:, 1],)\n",
    "ax.set_title('Truncated sample from GMM')\n",
    "# ax.hexbin(sample[:,0],sample[:,1],)\n",
    "for component in mix.models:\n",
    "    ell = get_2d_confidence_ellipse(component)\n",
    "    ell.set(fill=False, alpha=1, color='k', ls='-')\n",
    "    ax.add_artist(ell)\n",
    "# ax.set_ylim('')\n",
    "ax.set_aspect(1, 'datalim')\n",
    "ax.axhline(trunc_cutoff, ls='--', c='r')\n",
    "# ax.set_aspect(1, adjustable='datalim')\n"
   ]
  },
  {
   "cell_type": "code",
   "execution_count": null,
   "metadata": {},
   "outputs": [],
   "source": [
    "from sklearn.neighbors.kde import KernelDensity"
   ]
  },
  {
   "cell_type": "code",
   "execution_count": null,
   "metadata": {},
   "outputs": [],
   "source": [
    "kde = KernelDensity(kernel='gaussian', bandwidth=0.75).fit(sample)"
   ]
  },
  {
   "cell_type": "code",
   "execution_count": null,
   "metadata": {},
   "outputs": [],
   "source": [
    "def kde_pdf(sample_coords):\n",
    "    return np.exp(kde.score_samples(sample_coords))"
   ]
  },
  {
   "cell_type": "code",
   "execution_count": null,
   "metadata": {},
   "outputs": [],
   "source": [
    "from sklearn import mixture\n",
    "\n",
    "gmm_fixed_n = mixture.GaussianMixture(n_components=len(mix.models))\n",
    "gmm_fixed_n.fit(sample)\n",
    "\n",
    "gmm_fixed_n.means_"
   ]
  },
  {
   "cell_type": "code",
   "execution_count": null,
   "metadata": {},
   "outputs": [],
   "source": [
    "gmm_fixed_n.covariances_"
   ]
  },
  {
   "cell_type": "code",
   "execution_count": null,
   "metadata": {},
   "outputs": [],
   "source": [
    "gmm_fixed_n.weights_"
   ]
  },
  {
   "cell_type": "code",
   "execution_count": null,
   "metadata": {},
   "outputs": [],
   "source": [
    "def gmm_fixed_n_pdf(sample_coords):\n",
    "    return np.exp(gmm_fixed_n.score_samples(sample_coords))"
   ]
  },
  {
   "cell_type": "code",
   "execution_count": null,
   "metadata": {},
   "outputs": [],
   "source": [
    "import pygmmis"
   ]
  },
  {
   "cell_type": "code",
   "execution_count": null,
   "metadata": {},
   "outputs": [],
   "source": [
    "trunc_gmm = pygmmis.GMM(K=2, D=2)\n",
    "shared_sample = pygmmis.createShared(sample)\n",
    "trunc_gmm.mean"
   ]
  },
  {
   "cell_type": "code",
   "execution_count": null,
   "metadata": {},
   "outputs": [],
   "source": [
    "w = 0.2    # minimum covariance regularization, same units as data\n",
    "gmmis_cutoff = 4 # segment the data set into neighborhood within 5 sigma around components\n",
    "tol = 1e-4 # tolerance on logL to terminate EM\n",
    "pygmmis.VERBOSITY = 2      # 0,1,2\n",
    "pygmmis.OVERSAMPLING = 10  # number of imputation samples per data sample\n",
    "\n",
    "gmmis_seed= 1066\n",
    "rng = RandomState(gmmis_seed)"
   ]
  },
  {
   "cell_type": "code",
   "execution_count": null,
   "metadata": {},
   "outputs": [],
   "source": [
    "def initFromGmmAndRelax(gmm, data, covar=None, s=None, k=None, rng=np.random):\n",
    "    pygmmis.initFromSimpleGMM(gmm, data, covar, s, k, rng)\n",
    "    gmm.covar += 1.5*trunc_gmm.covar*np.eye(2)"
   ]
  },
  {
   "cell_type": "code",
   "execution_count": null,
   "metadata": {},
   "outputs": [],
   "source": [
    "logL, U = pygmmis.fit(trunc_gmm, shared_sample,\n",
    "                      init_callback=pygmmis.initFromSimpleGMM,\n",
    "#                       init_callback=initFromGmmAndRelax,\n",
    "                      sel_callback=selection_function, covar_callback=None, w=w, cutoff=gmmis_cutoff,\n",
    "                      background=None, tol=tol, rng=rng)"
   ]
  },
  {
   "cell_type": "code",
   "execution_count": null,
   "metadata": {},
   "outputs": [],
   "source": [
    "gmmis_components = []\n",
    "for idx in range(len(trunc_gmm.mean)):\n",
    "    mean = pd.Series(trunc_gmm.mean[idx], name='mu')\n",
    "    sigma = pd.Series(np.diagonal(trunc_gmm.covar[idx]),name='sigma')**0.5\n",
    "    pars = pd.concat([mean,sigma], axis=1).T\n",
    "    gmmis_components.append(MvGauss(pars =pars, cov=trunc_gmm.covar[idx]))\n",
    "    \n",
    "    \n",
    "gmmis_mix = Mixture(gmmis_components, trunc_gmm.amp)"
   ]
  },
  {
   "cell_type": "code",
   "execution_count": null,
   "metadata": {},
   "outputs": [],
   "source": [
    "# gmmis_mix"
   ]
  },
  {
   "cell_type": "code",
   "execution_count": null,
   "metadata": {},
   "outputs": [],
   "source": [
    "# mix"
   ]
  },
  {
   "cell_type": "code",
   "execution_count": null,
   "metadata": {},
   "outputs": [],
   "source": [
    "xlim=ylim=(-5,6)"
   ]
  },
  {
   "cell_type": "code",
   "execution_count": null,
   "metadata": {},
   "outputs": [],
   "source": [
    "fig, axes = plt.subplots(nrows=1, ncols=4, figsize=(20, 5))\n",
    "# for ax in axes.flat:\n",
    "#     im = ax.imshow(np.random.random((10,10)), vmin=0, vmax=1)\n",
    "\n",
    "levels = np.linspace(0., .085, num=10)\n",
    "ax_idx = 0\n",
    "\n",
    "# plot_2d_contours(kde_pdf, xlim, ylim, ax=axes[ax_idx],\n",
    "#                  #                  levels=levels\n",
    "#                  )\n",
    "# axes[ax_idx].set_title('KDE')\n",
    "# ax_idx += 1\n",
    "\n",
    "plot_2d_contours(gmm_fixed_n_pdf, xlim, ylim, ax=axes[ax_idx])\n",
    "axes[ax_idx].set_title('GMM (fixed N)')\n",
    "ax_idx += 1\n",
    "\n",
    "\n",
    "# plot_2d_contours(gmm_bayes_pdf, xlim, ylim, ax=axes[ax_idx])\n",
    "# axes[ax_idx].set_title('GMM (Bayes)')\n",
    "# ax_idx += 1\n",
    "\n",
    "cset, _ = plot_2d_contours(mix.joint_pdf, xlim, ylim, ax=axes[ax_idx],)\n",
    "# plt.colorbar(cset,ax=axes.tolist())\n",
    "axes[ax_idx].set_title('True PDF')\n",
    "ax_idx += 1\n",
    "\n",
    "cset, _ = plot_2d_contours(gmmis_mix.joint_pdf, xlim, ylim, ax=axes[ax_idx],)\n",
    "# plt.colorbar(cset,ax=axes.tolist())\n",
    "axes[ax_idx].set_title('GMMis PDF')\n",
    "\n",
    "# fig.subplots_adjust(right=0.8)\n",
    "# cbar_ax = fig.add_axes([0.85, 0.15, 0.05, 0.7])\n",
    "# fig.colorbar(im, cax=cbar_ax)\n",
    "for ax in axes:\n",
    "    ax.set_aspect('equal', 'box-forced')\n",
    "    ax.axhline(y=trunc_cutoff, ls='--', c='r')\n",
    "\n",
    "print(\"N samples:\", n_samples)"
   ]
  },
  {
   "cell_type": "code",
   "execution_count": null,
   "metadata": {},
   "outputs": [],
   "source": []
  }
 ],
 "metadata": {
  "language_info": {
   "name": "python",
   "pygments_lexer": "ipython3"
  }
 },
 "nbformat": 4,
 "nbformat_minor": 1
}
